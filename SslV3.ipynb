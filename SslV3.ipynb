{
  "cells": [
    {
      "cell_type": "markdown",
      "metadata": {
        "id": "view-in-github",
        "colab_type": "text"
      },
      "source": [
        "<a href=\"https://colab.research.google.com/github/Ahmedabdelwaly/Grad/blob/main/SslV3.ipynb\" target=\"_parent\"><img src=\"https://colab.research.google.com/assets/colab-badge.svg\" alt=\"Open In Colab\"/></a>"
      ]
    },
    {
      "cell_type": "code",
      "source": [
        "import pandas as pd\n",
        "import numpy as np\n",
        "import torch\n",
        "import torch.nn as nn\n",
        "from torch.utils.data import Dataset, DataLoader\n",
        "from sklearn.preprocessing import LabelEncoder\n",
        "import pickle\n",
        "import ast"
      ],
      "metadata": {
        "id": "YGx1LV-paFiM"
      },
      "execution_count": 1,
      "outputs": []
    },
    {
      "cell_type": "code",
      "source": [
        "# Load your raw dataset\n",
        "from google.colab import files\n",
        "uploaded = files.upload()"
      ],
      "metadata": {
        "colab": {
          "base_uri": "https://localhost:8080/",
          "height": 74
        },
        "id": "4wFdHvNSWmvA",
        "outputId": "a8a0754e-c0ec-4b9b-f817-7092d16992e2"
      },
      "execution_count": 2,
      "outputs": [
        {
          "output_type": "display_data",
          "data": {
            "text/plain": [
              "<IPython.core.display.HTML object>"
            ],
            "text/html": [
              "\n",
              "     <input type=\"file\" id=\"files-199ae9cb-758a-4507-a4fc-b15522f386bb\" name=\"files[]\" multiple disabled\n",
              "        style=\"border:none\" />\n",
              "     <output id=\"result-199ae9cb-758a-4507-a4fc-b15522f386bb\">\n",
              "      Upload widget is only available when the cell has been executed in the\n",
              "      current browser session. Please rerun this cell to enable.\n",
              "      </output>\n",
              "      <script>// Copyright 2017 Google LLC\n",
              "//\n",
              "// Licensed under the Apache License, Version 2.0 (the \"License\");\n",
              "// you may not use this file except in compliance with the License.\n",
              "// You may obtain a copy of the License at\n",
              "//\n",
              "//      http://www.apache.org/licenses/LICENSE-2.0\n",
              "//\n",
              "// Unless required by applicable law or agreed to in writing, software\n",
              "// distributed under the License is distributed on an \"AS IS\" BASIS,\n",
              "// WITHOUT WARRANTIES OR CONDITIONS OF ANY KIND, either express or implied.\n",
              "// See the License for the specific language governing permissions and\n",
              "// limitations under the License.\n",
              "\n",
              "/**\n",
              " * @fileoverview Helpers for google.colab Python module.\n",
              " */\n",
              "(function(scope) {\n",
              "function span(text, styleAttributes = {}) {\n",
              "  const element = document.createElement('span');\n",
              "  element.textContent = text;\n",
              "  for (const key of Object.keys(styleAttributes)) {\n",
              "    element.style[key] = styleAttributes[key];\n",
              "  }\n",
              "  return element;\n",
              "}\n",
              "\n",
              "// Max number of bytes which will be uploaded at a time.\n",
              "const MAX_PAYLOAD_SIZE = 100 * 1024;\n",
              "\n",
              "function _uploadFiles(inputId, outputId) {\n",
              "  const steps = uploadFilesStep(inputId, outputId);\n",
              "  const outputElement = document.getElementById(outputId);\n",
              "  // Cache steps on the outputElement to make it available for the next call\n",
              "  // to uploadFilesContinue from Python.\n",
              "  outputElement.steps = steps;\n",
              "\n",
              "  return _uploadFilesContinue(outputId);\n",
              "}\n",
              "\n",
              "// This is roughly an async generator (not supported in the browser yet),\n",
              "// where there are multiple asynchronous steps and the Python side is going\n",
              "// to poll for completion of each step.\n",
              "// This uses a Promise to block the python side on completion of each step,\n",
              "// then passes the result of the previous step as the input to the next step.\n",
              "function _uploadFilesContinue(outputId) {\n",
              "  const outputElement = document.getElementById(outputId);\n",
              "  const steps = outputElement.steps;\n",
              "\n",
              "  const next = steps.next(outputElement.lastPromiseValue);\n",
              "  return Promise.resolve(next.value.promise).then((value) => {\n",
              "    // Cache the last promise value to make it available to the next\n",
              "    // step of the generator.\n",
              "    outputElement.lastPromiseValue = value;\n",
              "    return next.value.response;\n",
              "  });\n",
              "}\n",
              "\n",
              "/**\n",
              " * Generator function which is called between each async step of the upload\n",
              " * process.\n",
              " * @param {string} inputId Element ID of the input file picker element.\n",
              " * @param {string} outputId Element ID of the output display.\n",
              " * @return {!Iterable<!Object>} Iterable of next steps.\n",
              " */\n",
              "function* uploadFilesStep(inputId, outputId) {\n",
              "  const inputElement = document.getElementById(inputId);\n",
              "  inputElement.disabled = false;\n",
              "\n",
              "  const outputElement = document.getElementById(outputId);\n",
              "  outputElement.innerHTML = '';\n",
              "\n",
              "  const pickedPromise = new Promise((resolve) => {\n",
              "    inputElement.addEventListener('change', (e) => {\n",
              "      resolve(e.target.files);\n",
              "    });\n",
              "  });\n",
              "\n",
              "  const cancel = document.createElement('button');\n",
              "  inputElement.parentElement.appendChild(cancel);\n",
              "  cancel.textContent = 'Cancel upload';\n",
              "  const cancelPromise = new Promise((resolve) => {\n",
              "    cancel.onclick = () => {\n",
              "      resolve(null);\n",
              "    };\n",
              "  });\n",
              "\n",
              "  // Wait for the user to pick the files.\n",
              "  const files = yield {\n",
              "    promise: Promise.race([pickedPromise, cancelPromise]),\n",
              "    response: {\n",
              "      action: 'starting',\n",
              "    }\n",
              "  };\n",
              "\n",
              "  cancel.remove();\n",
              "\n",
              "  // Disable the input element since further picks are not allowed.\n",
              "  inputElement.disabled = true;\n",
              "\n",
              "  if (!files) {\n",
              "    return {\n",
              "      response: {\n",
              "        action: 'complete',\n",
              "      }\n",
              "    };\n",
              "  }\n",
              "\n",
              "  for (const file of files) {\n",
              "    const li = document.createElement('li');\n",
              "    li.append(span(file.name, {fontWeight: 'bold'}));\n",
              "    li.append(span(\n",
              "        `(${file.type || 'n/a'}) - ${file.size} bytes, ` +\n",
              "        `last modified: ${\n",
              "            file.lastModifiedDate ? file.lastModifiedDate.toLocaleDateString() :\n",
              "                                    'n/a'} - `));\n",
              "    const percent = span('0% done');\n",
              "    li.appendChild(percent);\n",
              "\n",
              "    outputElement.appendChild(li);\n",
              "\n",
              "    const fileDataPromise = new Promise((resolve) => {\n",
              "      const reader = new FileReader();\n",
              "      reader.onload = (e) => {\n",
              "        resolve(e.target.result);\n",
              "      };\n",
              "      reader.readAsArrayBuffer(file);\n",
              "    });\n",
              "    // Wait for the data to be ready.\n",
              "    let fileData = yield {\n",
              "      promise: fileDataPromise,\n",
              "      response: {\n",
              "        action: 'continue',\n",
              "      }\n",
              "    };\n",
              "\n",
              "    // Use a chunked sending to avoid message size limits. See b/62115660.\n",
              "    let position = 0;\n",
              "    do {\n",
              "      const length = Math.min(fileData.byteLength - position, MAX_PAYLOAD_SIZE);\n",
              "      const chunk = new Uint8Array(fileData, position, length);\n",
              "      position += length;\n",
              "\n",
              "      const base64 = btoa(String.fromCharCode.apply(null, chunk));\n",
              "      yield {\n",
              "        response: {\n",
              "          action: 'append',\n",
              "          file: file.name,\n",
              "          data: base64,\n",
              "        },\n",
              "      };\n",
              "\n",
              "      let percentDone = fileData.byteLength === 0 ?\n",
              "          100 :\n",
              "          Math.round((position / fileData.byteLength) * 100);\n",
              "      percent.textContent = `${percentDone}% done`;\n",
              "\n",
              "    } while (position < fileData.byteLength);\n",
              "  }\n",
              "\n",
              "  // All done.\n",
              "  yield {\n",
              "    response: {\n",
              "      action: 'complete',\n",
              "    }\n",
              "  };\n",
              "}\n",
              "\n",
              "scope.google = scope.google || {};\n",
              "scope.google.colab = scope.google.colab || {};\n",
              "scope.google.colab._files = {\n",
              "  _uploadFiles,\n",
              "  _uploadFilesContinue,\n",
              "};\n",
              "})(self);\n",
              "</script> "
            ]
          },
          "metadata": {}
        },
        {
          "output_type": "stream",
          "name": "stdout",
          "text": [
            "Saving DonorCharityDataset_Balanced80.csv to DonorCharityDataset_Balanced80.csv\n"
          ]
        }
      ]
    },
    {
      "cell_type": "code",
      "source": [
        "# Load dataset\n",
        "df = pd.read_csv(\"DonorCharityDataset_Balanced80.csv\")\n",
        "\n",
        "# Clean text and donation types\n",
        "df[\"action_type\"] = df[\"action_type\"].str.strip().str.lower().replace(\"click\", \"view\")\n",
        "df[\"urgency_level\"] = df[\"urgency_level\"].str.strip().str.capitalize()\n",
        "\n",
        "def clean_types(raw):\n",
        "    try:\n",
        "        types = ast.literal_eval(raw)\n",
        "        return [t.strip().lower().replace(\"school suplies\", \"school supplies\") for t in types]\n",
        "    except:\n",
        "        return []\n",
        "\n",
        "df[\"charity_preferred_types\"] = df[\"charity_preferred_types\"].apply(clean_types)\n"
      ],
      "metadata": {
        "id": "a0dbSoPGWpJP"
      },
      "execution_count": 3,
      "outputs": []
    },
    {
      "cell_type": "code",
      "source": [
        "donation_types = ['food', 'clothes', 'toys', 'furniture', 'electronics', 'school supplies']\n",
        "type_to_index = {t: i for i, t in enumerate(donation_types)}\n",
        "\n",
        "def multi_hot(types_list):\n",
        "    vec = [0] * len(donation_types)\n",
        "    for t in types_list:\n",
        "        if t in type_to_index:\n",
        "            vec[type_to_index[t]] = 1\n",
        "    return vec\n",
        "\n",
        "df[\"preferred_types_multi\"] = df[\"charity_preferred_types\"].apply(multi_hot)\n"
      ],
      "metadata": {
        "id": "TCwkk7K0Wsg1"
      },
      "execution_count": 4,
      "outputs": []
    },
    {
      "cell_type": "code",
      "source": [
        "donation_types = ['food', 'clothes', 'toys', 'furniture', 'electronics', 'school supplies']\n",
        "type_to_index = {t: i for i, t in enumerate(donation_types)}\n",
        "\n",
        "def multi_hot(types_list):\n",
        "    vec = [0] * len(donation_types)\n",
        "    for t in types_list:\n",
        "        if t in type_to_index:\n",
        "            vec[type_to_index[t]] = 1\n",
        "    return vec\n",
        "\n",
        "df[\"preferred_types_multi\"] = df[\"charity_preferred_types\"].apply(multi_hot)"
      ],
      "metadata": {
        "id": "YJ7iGBXPWxz3"
      },
      "execution_count": 14,
      "outputs": []
    },
    {
      "cell_type": "code",
      "source": [
        "# Load encoders if exist or create them\n",
        "try:\n",
        "    with open(\"action_encoder.pkl\", \"rb\") as f:\n",
        "        action_encoder = pickle.load(f)\n",
        "    with open(\"urgency_encoder.pkl\", \"rb\") as f:\n",
        "        urgency_encoder = pickle.load(f)\n",
        "except FileNotFoundError:\n",
        "    action_encoder = LabelEncoder()\n",
        "    urgency_encoder = LabelEncoder()\n",
        "    df[\"action_encoded\"] = action_encoder.fit_transform(df[\"action_type\"])\n",
        "    df[\"urgency_encoded\"] = urgency_encoder.fit_transform(df[\"urgency_level\"])\n",
        "    with open(\"action_encoder.pkl\", \"wb\") as f:\n",
        "        pickle.dump(action_encoder, f)\n",
        "    with open(\"urgency_encoder.pkl\", \"wb\") as f:\n",
        "        pickle.dump(urgency_encoder, f)\n",
        "else:\n",
        "    df[\"action_encoded\"] = action_encoder.transform(df[\"action_type\"])\n",
        "    df[\"urgency_encoded\"] = urgency_encoder.transform(df[\"urgency_level\"])"
      ],
      "metadata": {
        "id": "9BSecMYBaoiy"
      },
      "execution_count": 15,
      "outputs": []
    },
    {
      "cell_type": "code",
      "source": [
        "import pickle\n",
        "\n",
        "donation_types = ['food', 'clothes', 'toys', 'furniture', 'electronics', 'school supplies']\n",
        "\n",
        "with open(\"donation_types.pkl\", \"wb\") as f:\n",
        "    pickle.dump(donation_types, f)"
      ],
      "metadata": {
        "id": "3TnrTn65eZII"
      },
      "execution_count": null,
      "outputs": []
    },
    {
      "cell_type": "code",
      "source": [
        "MAX_SEQ_LEN = 30\n",
        "\n",
        "df = df.sort_values(by=\"donor_id\")\n",
        "\n",
        "donor_sessions = {}\n",
        "for donor_id, group in df.groupby(\"donor_id\"):\n",
        "    group = group.tail(MAX_SEQ_LEN)\n",
        "    donor_sessions[donor_id] = {\n",
        "        \"action_seq\": group[\"action_encoded\"].tolist(),\n",
        "        \"urgency_seq\": group[\"urgency_encoded\"].tolist(),\n",
        "        \"preferred_seq\": group[\"preferred_types_multi\"].tolist()\n",
        "    }\n",
        "\n",
        "# Padding helpers\n",
        "def pad_seq(seq, pad_val=0):\n",
        "    return [pad_val] * (MAX_SEQ_LEN - len(seq)) + seq if len(seq) < MAX_SEQ_LEN else seq[-MAX_SEQ_LEN:]\n",
        "\n",
        "def pad_multihot(seq):\n",
        "    zero = [0] * len(donation_types)\n",
        "    return [zero] * (MAX_SEQ_LEN - len(seq)) + seq if len(seq) < MAX_SEQ_LEN else seq[-MAX_SEQ_LEN:]"
      ],
      "metadata": {
        "id": "ZoVviZHcarFF"
      },
      "execution_count": 16,
      "outputs": []
    },
    {
      "cell_type": "code",
      "source": [
        "class DonorCharityPairDataset(Dataset):\n",
        "    def __init__(self, df, donor_sessions):\n",
        "        self.samples = []\n",
        "        for _, row in df.iterrows():\n",
        "            donor_id = row[\"donor_id\"]\n",
        "            if donor_id not in donor_sessions: continue\n",
        "            label = 1 if row[\"action_type\"] == \"donate\" else 0\n",
        "            self.samples.append({\n",
        "                \"donor_id\": donor_id,\n",
        "                \"charity_vec\": row[\"preferred_types_multi\"],\n",
        "                \"label\": label\n",
        "            })\n",
        "        self.donor_sessions = donor_sessions\n",
        "\n",
        "    def __len__(self):\n",
        "        return len(self.samples)\n",
        "\n",
        "    def __getitem__(self, idx):\n",
        "        s = self.samples[idx]\n",
        "        session = self.donor_sessions[s[\"donor_id\"]]\n",
        "        return {\n",
        "            \"action_seq\": torch.tensor(pad_seq(session[\"action_seq\"]), dtype=torch.long),\n",
        "            \"urgency_seq\": torch.tensor(pad_seq(session[\"urgency_seq\"]), dtype=torch.long),\n",
        "            \"preferred_seq\": torch.tensor(pad_multihot(session[\"preferred_seq\"]), dtype=torch.float),\n",
        "            \"charity_vec\": torch.tensor(s[\"charity_vec\"], dtype=torch.float),\n",
        "            \"label\": torch.tensor(s[\"label\"], dtype=torch.float)\n",
        "        }\n",
        "\n",
        "dataset = DonorCharityPairDataset(df, donor_sessions)\n",
        "loader = DataLoader(dataset, batch_size=64, shuffle=True)\n"
      ],
      "metadata": {
        "id": "vM0xNaCDatJA"
      },
      "execution_count": 17,
      "outputs": []
    },
    {
      "cell_type": "code",
      "source": [
        "class SSLTransformer(nn.Module):\n",
        "    def __init__(self, num_actions, num_urgencies, embedding_dim=128, max_seq_len=30, n_heads=4, n_layers=2, dropout=0.1):\n",
        "        super().__init__()\n",
        "        self.action_embedding = nn.Embedding(num_actions, embedding_dim)\n",
        "        self.urgency_embedding = nn.Embedding(num_urgencies, embedding_dim)\n",
        "        self.preferred_dense = nn.Linear(6, embedding_dim)\n",
        "        self.position_embedding = nn.Embedding(max_seq_len, embedding_dim)\n",
        "\n",
        "        encoder_layer = nn.TransformerEncoderLayer(d_model=embedding_dim, nhead=n_heads, dropout=dropout)\n",
        "        self.transformer_encoder = nn.TransformerEncoder(encoder_layer, num_layers=n_layers)\n",
        "\n",
        "    def forward(self, action_seq, urgency_seq, preferred_seq):\n",
        "        B, T = action_seq.shape\n",
        "\n",
        "        action_emb = self.action_embedding(action_seq)\n",
        "        urgency_emb = self.urgency_embedding(urgency_seq)\n",
        "        preferred_emb = self.preferred_dense(preferred_seq)\n",
        "        pos_ids = torch.arange(T, device=action_seq.device).unsqueeze(0).expand(B, T)\n",
        "        pos_emb = self.position_embedding(pos_ids)\n",
        "\n",
        "        x = action_emb + urgency_emb + preferred_emb + pos_emb\n",
        "        x = self.transformer_encoder(x)\n",
        "        return x[:, -1, :]  # Last timestep = donor vector\n"
      ],
      "metadata": {
        "id": "50Qd4zp7avMT"
      },
      "execution_count": 18,
      "outputs": []
    },
    {
      "cell_type": "code",
      "source": [
        "class CharityEncoder(nn.Module):\n",
        "    def __init__(self, input_dim=6, embedding_dim=128):\n",
        "        super().__init__()\n",
        "        self.net = nn.Sequential(\n",
        "            nn.Linear(input_dim, 64),\n",
        "            nn.ReLU(),\n",
        "            nn.Linear(64, embedding_dim)\n",
        "        )\n",
        "\n",
        "    def forward(self, x):\n",
        "        return self.net(x)\n"
      ],
      "metadata": {
        "id": "1BZMIHw8a8vL"
      },
      "execution_count": 19,
      "outputs": []
    },
    {
      "cell_type": "code",
      "source": [
        "class MatchScorer(nn.Module):\n",
        "    def __init__(self):\n",
        "        super().__init__()\n",
        "\n",
        "    def forward(self, donor_vecs, charity_vecs):\n",
        "        return (donor_vecs * charity_vecs).sum(dim=1)  # (B,)\n"
      ],
      "metadata": {
        "id": "Zc_QDGRBa-nh"
      },
      "execution_count": 20,
      "outputs": []
    },
    {
      "cell_type": "code",
      "source": [
        "device = torch.device(\"cuda\" if torch.cuda.is_available() else \"cpu\")\n",
        "\n",
        "num_actions = len(action_encoder.classes_)\n",
        "num_urgencies = len(urgency_encoder.classes_)\n",
        "\n",
        "donor_encoder = SSLTransformer(num_actions, num_urgencies).to(device)\n",
        "charity_encoder = CharityEncoder().to(device)\n",
        "scorer = MatchScorer().to(device)\n",
        "\n",
        "optimizer = torch.optim.Adam(list(donor_encoder.parameters()) +\n",
        "                             list(charity_encoder.parameters()) +\n",
        "                             list(scorer.parameters()), lr=0.001)\n",
        "\n",
        "criterion = nn.BCEWithLogitsLoss()\n"
      ],
      "metadata": {
        "colab": {
          "base_uri": "https://localhost:8080/"
        },
        "id": "097EBPzZbAnA",
        "outputId": "262be146-1e07-4b98-e66e-5245f864d8a6"
      },
      "execution_count": 21,
      "outputs": [
        {
          "output_type": "stream",
          "name": "stderr",
          "text": [
            "/usr/local/lib/python3.11/dist-packages/torch/nn/modules/transformer.py:385: UserWarning: enable_nested_tensor is True, but self.use_nested_tensor is False because encoder_layer.self_attn.batch_first was not True(use batch_first for better inference performance)\n",
            "  warnings.warn(\n"
          ]
        }
      ]
    },
    {
      "cell_type": "code",
      "source": [
        "EPOCHS = 10\n",
        "\n",
        "for epoch in range(EPOCHS):\n",
        "    donor_encoder.train()\n",
        "    charity_encoder.train()\n",
        "    scorer.train()\n",
        "\n",
        "    total_loss = 0\n",
        "\n",
        "    for batch in loader:\n",
        "        for k in batch:\n",
        "            batch[k] = batch[k].to(device)\n",
        "\n",
        "        donor_vec = donor_encoder(batch[\"action_seq\"], batch[\"urgency_seq\"], batch[\"preferred_seq\"])\n",
        "        charity_vec = charity_encoder(batch[\"charity_vec\"])\n",
        "        scores = scorer(donor_vec, charity_vec)\n",
        "\n",
        "        loss = criterion(scores, batch[\"label\"])\n",
        "        optimizer.zero_grad()\n",
        "        loss.backward()\n",
        "        optimizer.step()\n",
        "\n",
        "        total_loss += loss.item()\n",
        "\n",
        "    avg_loss = total_loss / len(loader)\n",
        "    print(f\"Epoch {epoch+1}/{EPOCHS} — Loss: {avg_loss:.4f}\")\n"
      ],
      "metadata": {
        "colab": {
          "base_uri": "https://localhost:8080/"
        },
        "id": "-e0tH8Q5bDZ8",
        "outputId": "7b5254e7-d5f6-4fc6-d5e8-11954ffc88b5"
      },
      "execution_count": 22,
      "outputs": [
        {
          "output_type": "stream",
          "name": "stdout",
          "text": [
            "Epoch 1/10 — Loss: 0.6946\n",
            "Epoch 2/10 — Loss: 0.6344\n",
            "Epoch 3/10 — Loss: 0.6280\n",
            "Epoch 4/10 — Loss: 0.6224\n",
            "Epoch 5/10 — Loss: 0.6197\n",
            "Epoch 6/10 — Loss: 0.6171\n",
            "Epoch 7/10 — Loss: 0.6106\n",
            "Epoch 8/10 — Loss: 0.6112\n",
            "Epoch 9/10 — Loss: 0.6084\n",
            "Epoch 10/10 — Loss: 0.6062\n"
          ]
        }
      ]
    },
    {
      "cell_type": "code",
      "source": [
        "from sklearn.metrics import accuracy_score, precision_score, recall_score, roc_auc_score\n",
        "\n",
        "def evaluate_model(donor_encoder, charity_encoder, scorer, loader):\n",
        "    donor_encoder.eval()\n",
        "    charity_encoder.eval()\n",
        "    scorer.eval()\n",
        "\n",
        "    y_true = []\n",
        "    y_pred = []\n",
        "\n",
        "    with torch.no_grad():\n",
        "        for batch in loader:\n",
        "            for k in batch:\n",
        "                batch[k] = batch[k].to(device)\n",
        "\n",
        "            donor_vec = donor_encoder(batch[\"action_seq\"], batch[\"urgency_seq\"], batch[\"preferred_seq\"])\n",
        "            charity_vec = charity_encoder(batch[\"charity_vec\"])\n",
        "            scores = scorer(donor_vec, charity_vec)\n",
        "\n",
        "            preds = torch.sigmoid(scores).cpu().numpy()\n",
        "            labels = batch[\"label\"].cpu().numpy()\n",
        "\n",
        "            y_pred.extend(preds)\n",
        "            y_true.extend(labels)\n",
        "\n",
        "    y_pred_binary = [1 if p >= 0.5 else 0 for p in y_pred]\n",
        "\n",
        "    acc = accuracy_score(y_true, y_pred_binary)\n",
        "    prec = precision_score(y_true, y_pred_binary)\n",
        "    rec = recall_score(y_true, y_pred_binary)\n",
        "    auc = roc_auc_score(y_true, y_pred)\n",
        "\n",
        "    print(f\"Accuracy: {acc:.4f}, Precision: {prec:.4f}, Recall: {rec:.4f}, AUC: {auc:.4f}\")\n"
      ],
      "metadata": {
        "id": "09sNhGO6bIKU"
      },
      "execution_count": 27,
      "outputs": []
    },
    {
      "cell_type": "code",
      "source": [
        "evaluate_model(donor_encoder, charity_encoder, scorer, loader)\n"
      ],
      "metadata": {
        "colab": {
          "base_uri": "https://localhost:8080/"
        },
        "id": "E521il6toAug",
        "outputId": "362410ad-543f-4f14-83c0-b0136f5a17ef"
      },
      "execution_count": 28,
      "outputs": [
        {
          "output_type": "stream",
          "name": "stdout",
          "text": [
            "Accuracy: 0.6911, Precision: 0.6198, Recall: 0.3476, AUC: 0.6919\n"
          ]
        }
      ]
    },
    {
      "cell_type": "code",
      "source": [
        "def recommend_real_charities(donor_id, session, donor_encoder, charity_encoder, live_charities, top_k=5):\n",
        "    \"\"\"\n",
        "    donor_id: str\n",
        "    session: dict → {\"action_seq\": [...], \"urgency_seq\": [...], \"preferred_seq\": [[...], [...]]}\n",
        "    live_charities: list of dicts → [{\"id\": ..., \"preferred_types\": [...], \"city\": ...}]\n",
        "    \"\"\"\n",
        "\n",
        "    action_seq = torch.tensor(pad_seq(session[\"action_seq\"]), dtype=torch.long).unsqueeze(0).to(device)\n",
        "    urgency_seq = torch.tensor(pad_seq(session[\"urgency_seq\"]), dtype=torch.long).unsqueeze(0).to(device)\n",
        "    preferred_seq = torch.tensor(pad_multihot(session[\"preferred_seq\"]), dtype=torch.float).unsqueeze(0).to(device)\n",
        "\n",
        "    with torch.no_grad():\n",
        "        donor_vec = donor_encoder(action_seq, urgency_seq, preferred_seq)  # (1, 128)\n",
        "\n",
        "        # Build charity batch\n",
        "        charity_vecs = []\n",
        "        metadata = []\n",
        "\n",
        "        for charity in live_charities:\n",
        "            mh_vec = multi_hot(charity[\"preferred_types\"])  # already defined earlier\n",
        "            charity_vecs.append(mh_vec)\n",
        "            metadata.append({\n",
        "                \"id\": charity[\"id\"],\n",
        "                \"city\": charity.get(\"city\", \"Unknown\"),\n",
        "                \"types\": charity[\"preferred_types\"]\n",
        "            })\n",
        "\n",
        "        charity_vecs = torch.tensor(charity_vecs, dtype=torch.float).to(device)\n",
        "        embedded = charity_encoder(charity_vecs)  # (N, 128)\n",
        "\n",
        "        sim_scores = torch.matmul(donor_vec, embedded.T).squeeze()  # (N,)\n",
        "        topk = torch.topk(sim_scores, k=top_k)\n",
        "\n",
        "        results = []\n",
        "        for idx in topk.indices.tolist():\n",
        "            results.append({\n",
        "                \"charity_id\": metadata[idx][\"id\"],\n",
        "                \"city\": metadata[idx][\"city\"],\n",
        "                \"types\": metadata[idx][\"types\"],\n",
        "                \"score\": sim_scores[idx].item()\n",
        "            })\n",
        "\n",
        "    return results"
      ],
      "metadata": {
        "id": "VQnPFeA1b0Vy"
      },
      "execution_count": 24,
      "outputs": []
    },
    {
      "cell_type": "code",
      "source": [
        "import torch\n",
        "import numpy as np\n",
        "import pandas as pd\n",
        "\n",
        "# Simulated 6 donation types\n",
        "donation_types = ['food', 'clothes', 'toys', 'furniture', 'electronics', 'school supplies']\n",
        "type_to_index = {t: i for i, t in enumerate(donation_types)}\n",
        "\n",
        "def multi_hot(type_list):\n",
        "    vec = [0] * len(donation_types)\n",
        "    for t in type_list:\n",
        "        if t in type_to_index:\n",
        "            vec[type_to_index[t]] = 1\n",
        "    return vec\n",
        "\n",
        "# Pad sequences\n",
        "MAX_LEN = 30\n",
        "def pad(seq, val=0): return [val]*(MAX_LEN-len(seq)) + seq if len(seq) < MAX_LEN else seq[-MAX_LEN:]\n",
        "def pad_mh(seq): return [[0]*6]*(MAX_LEN-len(seq)) + seq if len(seq) < MAX_LEN else seq[-MAX_LEN:]\n",
        "\n",
        "# Simulated donor session history\n",
        "donor_sessions = {\n",
        "    \"D1\": {\n",
        "        \"action_seq\": [2, 2, 0],  # donate, donate, view\n",
        "        \"urgency_seq\": [1, 2, 1],\n",
        "        \"preferred_seq\": [multi_hot([\"food\", \"clothes\"]), multi_hot([\"food\", \"clothes\"]), multi_hot([\"clothes\"])]\n",
        "    },\n",
        "    \"D2\": {\n",
        "        \"action_seq\": [2, 0, 0],\n",
        "        \"urgency_seq\": [1, 1, 0],\n",
        "        \"preferred_seq\": [multi_hot([\"food\"]), multi_hot([\"clothes\"]), multi_hot([\"food\", \"clothes\"])]\n",
        "    },\n",
        "    \"D3\": {\n",
        "        \"action_seq\": [1, 1, 0],\n",
        "        \"urgency_seq\": [0, 0, 1],\n",
        "        \"preferred_seq\": [multi_hot([\"electronics\"]), multi_hot([\"furniture\"]), multi_hot([\"school supplies\"])]\n",
        "    }\n",
        "}\n",
        "\n",
        "# Real charities\n",
        "charities = [\n",
        "    {\"id\": f\"C{i+1}\", \"preferred_types\": t}\n",
        "    for i, t in enumerate([\n",
        "        [\"food\", \"clothes\"], [\"electronics\"], [\"furniture\"], [\"toys\"], [\"school supplies\"],\n",
        "        [\"food\"], [\"clothes\"], [\"furniture\", \"electronics\"], [\"toys\", \"school supplies\"], [\"food\", \"toys\"]\n",
        "    ])\n",
        "]\n",
        "\n",
        "# Create multi-hot vectors\n",
        "charity_vectors = torch.tensor([multi_hot(c[\"preferred_types\"]) for c in charities], dtype=torch.float)\n",
        "\n",
        "# Dummy encoders: Simulate learned embeddings\n",
        "torch.manual_seed(0)\n",
        "donor_encoder = torch.nn.Linear(128, 128)\n",
        "charity_encoder = torch.nn.Linear(6, 128)\n",
        "\n",
        "# Compute similarity score\n",
        "def score(donor_vec, charity_vecs):\n",
        "    return torch.matmul(donor_vec, charity_vecs.T)\n",
        "\n",
        "# Encode donor history\n",
        "def encode_donor(donor_id):\n",
        "    s = donor_sessions[donor_id]\n",
        "    a = torch.tensor(pad(s[\"action_seq\"])).unsqueeze(0)\n",
        "    u = torch.tensor(pad(s[\"urgency_seq\"])).unsqueeze(0)\n",
        "    p = torch.tensor(pad_mh(s[\"preferred_seq\"]), dtype=torch.float).unsqueeze(0)\n",
        "    return donor_encoder(p.mean(dim=1))  # using mean as placeholder encoder input\n",
        "\n",
        "# Recommend top 5 charities\n",
        "top5_results = {}\n",
        "for donor_id in donor_sessions:\n",
        "    donor_vec = encode_donor(donor_id)\n",
        "    embedded_charities = charity_encoder(charity_vectors)\n",
        "    sim_scores = score(donor_vec, embedded_charities).squeeze()\n",
        "    top_indices = torch.topk(sim_scores, k=5).indices.tolist()\n",
        "    top5 = [(charities[i][\"id\"], charities[i][\"preferred_types\"], round(sim_scores[i].item(), 4)) for i in top_indices]\n",
        "    top5_results[donor_id] = top5\n",
        "\n",
        "# Display\n",
        "rows = []\n",
        "for donor_id, recs in top5_results.items():\n",
        "    for rank, (cid, types, score) in enumerate(recs, 1):\n",
        "        rows.append({\n",
        "            \"Donor\": donor_id,\n",
        "            \"Rank\": rank,\n",
        "            \"Charity ID\": cid,\n",
        "            \"Preferred Types\": \", \".join(types),\n",
        "            \"Score\": score\n",
        "        })\n",
        "\n",
        "df = pd.DataFrame(rows)\n",
        "print(df)\n"
      ],
      "metadata": {
        "id": "G98fRPxJb1RJ"
      },
      "execution_count": null,
      "outputs": []
    }
  ],
  "metadata": {
    "colab": {
      "provenance": [],
      "authorship_tag": "ABX9TyM7hVV1dHky1OwJ0VprrCXy",
      "include_colab_link": true
    },
    "kernelspec": {
      "display_name": "Python 3",
      "name": "python3"
    },
    "language_info": {
      "name": "python"
    }
  },
  "nbformat": 4,
  "nbformat_minor": 0
}